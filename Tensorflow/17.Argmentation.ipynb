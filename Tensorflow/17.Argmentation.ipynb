{
 "cells": [
  {
   "cell_type": "code",
   "execution_count": 1,
   "id": "6710b379",
   "metadata": {},
   "outputs": [],
   "source": [
    "import tensorflow as tf\n",
    "import numpy as np\n",
    "import matplotlib.pyplot as plt\n",
    "\n",
    "from tensorflow.keras.models import Sequential\n",
    "from tensorflow.keras.layers import Dense, Activation, Dropout, \\\n",
    "                    Flatten, Conv2D, MaxPooling2D\n",
    "from tensorflow.keras.preprocessing.image import ImageDataGenerator\n",
    "from tensorflow.keras import optimizers, initializers, \\\n",
    "                    regularizers, metrics"
   ]
  },
  {
   "cell_type": "code",
   "execution_count": 2,
   "id": "289e8bc3",
   "metadata": {},
   "outputs": [],
   "source": [
    "b_size = 5\n",
    "train_datagen = ImageDataGenerator(rescale=1./255, \\\n",
    "                                horizontal_flip=True,\\\n",
    "                        # 수평 대칭 이미지를 50% 확률로 만듬\n",
    "                                 width_shift_range=0.1,\\\n",
    "                        # 전체 크기의 10% 범위에서 좌우로 이동\n",
    "                                 height_shift_range=0.1,\\\n",
    "                                 fill_mode='nearest')"
   ]
  },
  {
   "cell_type": "code",
   "execution_count": 3,
   "id": "776d0bd6",
   "metadata": {},
   "outputs": [
    {
     "name": "stdout",
     "output_type": "stream",
     "text": [
      "Found 160 images belonging to 2 classes.\n"
     ]
    }
   ],
   "source": [
    "train_generator = train_datagen.flow_from_directory(\n",
    "                            'train',\n",
    "                            target_size=(150,150),\n",
    "                            batch_size=b_size,\n",
    "                            class_mode='binary')"
   ]
  },
  {
   "cell_type": "code",
   "execution_count": 4,
   "id": "c1858382",
   "metadata": {},
   "outputs": [
    {
     "name": "stdout",
     "output_type": "stream",
     "text": [
      "Found 120 images belonging to 2 classes.\n"
     ]
    }
   ],
   "source": [
    "test_datagen = ImageDataGenerator(rescale=1./255)\n",
    "test_generator = test_datagen.flow_from_directory(\n",
    "                            'test',\n",
    "                            target_size=(150,150),\n",
    "                            batch_size=b_size,\n",
    "                            class_mode='binary')"
   ]
  },
  {
   "cell_type": "code",
   "execution_count": 5,
   "id": "7122daa2",
   "metadata": {},
   "outputs": [
    {
     "name": "stdout",
     "output_type": "stream",
     "text": [
      "32\n"
     ]
    }
   ],
   "source": [
    "print(len(train_generator))"
   ]
  },
  {
   "cell_type": "code",
   "execution_count": 6,
   "id": "aa60dee9",
   "metadata": {},
   "outputs": [
    {
     "name": "stdout",
     "output_type": "stream",
     "text": [
      "24\n"
     ]
    }
   ],
   "source": [
    "print(len(test_generator))"
   ]
  },
  {
   "cell_type": "code",
   "execution_count": 7,
   "id": "f3612316",
   "metadata": {},
   "outputs": [],
   "source": [
    "model = Sequential()\n",
    "model.add(Conv2D(32, (3, 3), input_shape=(150,150,3)))\n",
    "model.add(Activation('relu'))\n",
    "model.add(MaxPooling2D(pool_size=(2, 2)))\n",
    "\n",
    "model.add(Conv2D(32, (3, 3)))\n",
    "model.add(Activation('relu'))\n",
    "model.add(MaxPooling2D(pool_size=(2, 2)))\n",
    "\n",
    "model.add(Conv2D(64, (3, 3)))\n",
    "model.add(Activation('relu'))\n",
    "model.add(MaxPooling2D(pool_size=(2, 2)))\n",
    "\n",
    "model.add(Flatten())\n",
    "model.add(Dense(64))\n",
    "model.add(Activation('relu'))\n",
    "model.add(Dropout(0.5))\n",
    "model.add(Dense(2))\n",
    "model.add(Activation('softmax'))"
   ]
  },
  {
   "cell_type": "code",
   "execution_count": 8,
   "id": "06c2bb25",
   "metadata": {},
   "outputs": [
    {
     "name": "stdout",
     "output_type": "stream",
     "text": [
      "Model: \"sequential\"\n",
      "_________________________________________________________________\n",
      "Layer (type)                 Output Shape              Param #   \n",
      "=================================================================\n",
      "conv2d (Conv2D)              (None, 148, 148, 32)      896       \n",
      "_________________________________________________________________\n",
      "activation (Activation)      (None, 148, 148, 32)      0         \n",
      "_________________________________________________________________\n",
      "max_pooling2d (MaxPooling2D) (None, 74, 74, 32)        0         \n",
      "_________________________________________________________________\n",
      "conv2d_1 (Conv2D)            (None, 72, 72, 32)        9248      \n",
      "_________________________________________________________________\n",
      "activation_1 (Activation)    (None, 72, 72, 32)        0         \n",
      "_________________________________________________________________\n",
      "max_pooling2d_1 (MaxPooling2 (None, 36, 36, 32)        0         \n",
      "_________________________________________________________________\n",
      "conv2d_2 (Conv2D)            (None, 34, 34, 64)        18496     \n",
      "_________________________________________________________________\n",
      "activation_2 (Activation)    (None, 34, 34, 64)        0         \n",
      "_________________________________________________________________\n",
      "max_pooling2d_2 (MaxPooling2 (None, 17, 17, 64)        0         \n",
      "_________________________________________________________________\n",
      "flatten (Flatten)            (None, 18496)             0         \n",
      "_________________________________________________________________\n",
      "dense (Dense)                (None, 64)                1183808   \n",
      "_________________________________________________________________\n",
      "activation_3 (Activation)    (None, 64)                0         \n",
      "_________________________________________________________________\n",
      "dropout (Dropout)            (None, 64)                0         \n",
      "_________________________________________________________________\n",
      "dense_1 (Dense)              (None, 2)                 130       \n",
      "_________________________________________________________________\n",
      "activation_4 (Activation)    (None, 2)                 0         \n",
      "=================================================================\n",
      "Total params: 1,212,578\n",
      "Trainable params: 1,212,578\n",
      "Non-trainable params: 0\n",
      "_________________________________________________________________\n"
     ]
    }
   ],
   "source": [
    "model.summary()"
   ]
  },
  {
   "cell_type": "code",
   "execution_count": 12,
   "id": "85aadc62",
   "metadata": {},
   "outputs": [],
   "source": [
    "# 컴파일\n",
    "model.compile(loss='sparse_categorical_crossentropy', \\\n",
    "             optimizer=optimizers.Adam(learning_rate=0.0002), \\\n",
    "             metrics=['accuracy'])"
   ]
  },
  {
   "cell_type": "code",
   "execution_count": 13,
   "id": "e66d9ecb",
   "metadata": {},
   "outputs": [],
   "source": [
    "steps_train = len(train_generator)\n",
    "steps_test = len(test_generator)"
   ]
  },
  {
   "cell_type": "code",
   "execution_count": 14,
   "id": "2c20340f",
   "metadata": {},
   "outputs": [
    {
     "name": "stdout",
     "output_type": "stream",
     "text": [
      "Epoch 1/20\n",
      "32/32 [==============================] - 4s 100ms/step - loss: 0.7046 - accuracy: 0.4688 - val_loss: 0.6886 - val_accuracy: 0.5250\n",
      "Epoch 2/20\n",
      "32/32 [==============================] - 3s 81ms/step - loss: 0.6951 - accuracy: 0.4938 - val_loss: 0.6837 - val_accuracy: 0.5917\n",
      "Epoch 3/20\n",
      "32/32 [==============================] - 3s 82ms/step - loss: 0.6875 - accuracy: 0.5437 - val_loss: 0.6789 - val_accuracy: 0.5833\n",
      "Epoch 4/20\n",
      "32/32 [==============================] - 3s 83ms/step - loss: 0.6767 - accuracy: 0.6187 - val_loss: 0.6742 - val_accuracy: 0.5083\n",
      "Epoch 5/20\n",
      "32/32 [==============================] - 3s 89ms/step - loss: 0.6694 - accuracy: 0.5688 - val_loss: 0.6432 - val_accuracy: 0.7500\n",
      "Epoch 6/20\n",
      "32/32 [==============================] - 3s 88ms/step - loss: 0.6488 - accuracy: 0.6750 - val_loss: 0.6218 - val_accuracy: 0.6000\n",
      "Epoch 7/20\n",
      "32/32 [==============================] - 3s 90ms/step - loss: 0.6266 - accuracy: 0.6500 - val_loss: 0.6388 - val_accuracy: 0.5917\n",
      "Epoch 8/20\n",
      "32/32 [==============================] - 3s 89ms/step - loss: 0.5906 - accuracy: 0.7250 - val_loss: 0.4934 - val_accuracy: 0.7833\n",
      "Epoch 9/20\n",
      "32/32 [==============================] - 3s 88ms/step - loss: 0.5544 - accuracy: 0.7500 - val_loss: 0.5417 - val_accuracy: 0.6500\n",
      "Epoch 10/20\n",
      "32/32 [==============================] - 3s 87ms/step - loss: 0.5047 - accuracy: 0.7937 - val_loss: 0.4879 - val_accuracy: 0.7333\n",
      "Epoch 11/20\n",
      "32/32 [==============================] - 3s 91ms/step - loss: 0.3976 - accuracy: 0.8687 - val_loss: 0.3128 - val_accuracy: 0.8750\n",
      "Epoch 12/20\n",
      "32/32 [==============================] - 3s 86ms/step - loss: 0.4173 - accuracy: 0.8062 - val_loss: 0.3364 - val_accuracy: 0.8833\n",
      "Epoch 13/20\n",
      "32/32 [==============================] - 3s 88ms/step - loss: 0.3103 - accuracy: 0.9000 - val_loss: 0.3239 - val_accuracy: 0.8333\n",
      "Epoch 14/20\n",
      "32/32 [==============================] - 3s 85ms/step - loss: 0.3061 - accuracy: 0.8687 - val_loss: 0.1924 - val_accuracy: 0.9500\n",
      "Epoch 15/20\n",
      "32/32 [==============================] - 3s 88ms/step - loss: 0.2402 - accuracy: 0.9187 - val_loss: 0.1487 - val_accuracy: 0.9667\n",
      "Epoch 16/20\n",
      "32/32 [==============================] - 3s 89ms/step - loss: 0.2682 - accuracy: 0.8875 - val_loss: 0.2168 - val_accuracy: 0.9167\n",
      "Epoch 17/20\n",
      "32/32 [==============================] - 3s 91ms/step - loss: 0.2510 - accuracy: 0.9125 - val_loss: 0.1334 - val_accuracy: 0.9667\n",
      "Epoch 18/20\n",
      "32/32 [==============================] - 3s 88ms/step - loss: 0.2082 - accuracy: 0.9500 - val_loss: 0.1264 - val_accuracy: 0.9583\n",
      "Epoch 19/20\n",
      "32/32 [==============================] - 3s 90ms/step - loss: 0.1906 - accuracy: 0.9563 - val_loss: 0.1274 - val_accuracy: 0.9583\n",
      "Epoch 20/20\n",
      "32/32 [==============================] - 3s 91ms/step - loss: 0.1779 - accuracy: 0.9438 - val_loss: 0.1453 - val_accuracy: 0.9667\n"
     ]
    }
   ],
   "source": [
    "history = model.fit(\n",
    "       train_generator,\n",
    "       steps_per_epoch=steps_train,\n",
    "       epochs=20,\n",
    "       validation_data=test_generator,\n",
    "       validation_steps=steps_test )"
   ]
  },
  {
   "cell_type": "code",
   "execution_count": 15,
   "id": "021bde71",
   "metadata": {},
   "outputs": [
    {
     "data": {
      "image/png": "[encoded data removed]",
      "text/plain": [
       "<Figure size 432x288 with 1 Axes>"
      ]
     },
     "metadata": {
      "needs_background": "light"
     },
     "output_type": "display_data"
    }
   ],
   "source": [
    "acc = history.history['accuracy']\n",
    "val_acc = history.history['val_accuracy']\n",
    "y_vloss = history.history['val_loss']\n",
    "y_loss = history.history['loss']\n",
    "\n",
    "x_len = np.arange(len(y_loss))\n",
    "plt.plot(x_len, acc, marker='.', c='red', label='Trainset_acc')\n",
    "plt.plot(x_len, val_acc, marker='.', c='lightcoral', \\\n",
    "         label='Trainset_acc')\n",
    "plt.plot(x_len, y_vloss, marker='.', c='cornflowerblue', \\\n",
    "         label='Trainset_acc')\n",
    "plt.plot(x_len, y_loss, marker='.', c='blue', \\\n",
    "         label='Trainset_loss')\n",
    "plt.legend(loc='upper left')\n",
    "plt.grid()\n",
    "plt.xlabel('epoch')\n",
    "plt.ylabel('loss/acc')\n",
    "plt.show()"
   ]
  },
  {
   "cell_type": "code",
   "execution_count": null,
   "id": "3e8d8794",
   "metadata": {},
   "outputs": [],
   "source": []
  }
 ],
 "metadata": {
  "kernelspec": {
   "display_name": "Python 3 (ipykernel)",
   "language": "python",
   "name": "python3"
  },
  "language_info": {
   "codemirror_mode": {
    "name": "ipython",
    "version": 3
   },
   "file_extension": ".py",
   "mimetype": "text/x-python",
   "name": "python",
   "nbconvert_exporter": "python",
   "pygments_lexer": "ipython3",
   "version": "3.7.11"
  }
 },
 "nbformat": 4,
 "nbformat_minor": 5
}
