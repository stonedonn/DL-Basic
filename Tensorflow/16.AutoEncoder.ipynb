{
 "cells": [
  {
   "cell_type": "code",
   "execution_count": 1,
   "id": "6c47a392",
   "metadata": {},
   "outputs": [],
   "source": [
    "from tensorflow.keras.datasets import mnist\n",
    "from tensorflow.keras.models import Sequential, Model\n",
    "from tensorflow.keras.layers import Input, Dense, Conv2D, \\\n",
    "                MaxPooling2D, UpSampling2D, Flatten, Reshape\n",
    "\n",
    "import matplotlib.pyplot as plt\n",
    "import numpy as np"
   ]
  },
  {
   "cell_type": "code",
   "execution_count": 2,
   "id": "b6e93556",
   "metadata": {},
   "outputs": [],
   "source": [
    "(X_train, _), (X_test, _) = mnist.load_data()\n",
    "X_train = X_train.reshape(X_train.shape[0], 28, 28, 1).\\\n",
    "                                    astype('float32') / 255\n",
    "X_test = X_test.reshape(X_test.shape[0], 28, 28, 1).\\\n",
    "                                    astype('float32') / 255"
   ]
  },
  {
   "cell_type": "code",
   "execution_count": 3,
   "id": "555a0ae0",
   "metadata": {},
   "outputs": [],
   "source": [
    "# 생성자 모델 만들기\n",
    "autoencoder = Sequential()"
   ]
  },
  {
   "cell_type": "code",
   "execution_count": 4,
   "id": "02cc4366",
   "metadata": {},
   "outputs": [],
   "source": [
    "# Encoding 부분\n",
    "autoencoder.add(Conv2D(16, kernel_size=3, padding='same', \\\n",
    "                    input_shape=(28,28,1), activation='relu'))\n",
    "autoencoder.add(MaxPooling2D(pool_size=2, padding='same'))\n",
    "autoencoder.add(Conv2D(8, kernel_size=3, activation='relu', \\\n",
    "                      padding='same'))\n",
    "autoencoder.add(MaxPooling2D(pool_size=2, padding='same'))\n",
    "autoencoder.add(Conv2D(8, kernel_size=3, strides=2, \\\n",
    "                      padding='same', activation='relu'))\n",
    "\n",
    "# Decoding 부분\n",
    "autoencoder.add(Conv2D(8, kernel_size=3, padding='same', \\\n",
    "                      activation='relu'))\n",
    "autoencoder.add(UpSampling2D())\n",
    "autoencoder.add(Conv2D(8, kernel_size=3, padding='same', \\\n",
    "                      activation='relu'))\n",
    "autoencoder.add(UpSampling2D())\n",
    "autoencoder.add(Conv2D(16, kernel_size=3, activation='relu'))\n",
    "autoencoder.add(UpSampling2D())\n",
    "autoencoder.add(Conv2D(1, kernel_size=3, padding='same', \\\n",
    "                      activation='sigmoid'))"
   ]
  },
  {
   "cell_type": "code",
   "execution_count": 5,
   "id": "87bbb7b0",
   "metadata": {},
   "outputs": [
    {
     "name": "stdout",
     "output_type": "stream",
     "text": [
      "Model: \"sequential\"\n",
      "_________________________________________________________________\n",
      "Layer (type)                 Output Shape              Param #   \n",
      "=================================================================\n",
      "conv2d (Conv2D)              (None, 28, 28, 16)        160       \n",
      "_________________________________________________________________\n",
      "max_pooling2d (MaxPooling2D) (None, 14, 14, 16)        0         \n",
      "_________________________________________________________________\n",
      "conv2d_1 (Conv2D)            (None, 14, 14, 8)         1160      \n",
      "_________________________________________________________________\n",
      "max_pooling2d_1 (MaxPooling2 (None, 7, 7, 8)           0         \n",
      "_________________________________________________________________\n",
      "conv2d_2 (Conv2D)            (None, 4, 4, 8)           584       \n",
      "_________________________________________________________________\n",
      "conv2d_3 (Conv2D)            (None, 4, 4, 8)           584       \n",
      "_________________________________________________________________\n",
      "up_sampling2d (UpSampling2D) (None, 8, 8, 8)           0         \n",
      "_________________________________________________________________\n",
      "conv2d_4 (Conv2D)            (None, 8, 8, 8)           584       \n",
      "_________________________________________________________________\n",
      "up_sampling2d_1 (UpSampling2 (None, 16, 16, 8)         0         \n",
      "_________________________________________________________________\n",
      "conv2d_5 (Conv2D)            (None, 14, 14, 16)        1168      \n",
      "_________________________________________________________________\n",
      "up_sampling2d_2 (UpSampling2 (None, 28, 28, 16)        0         \n",
      "_________________________________________________________________\n",
      "conv2d_6 (Conv2D)            (None, 28, 28, 1)         145       \n",
      "=================================================================\n",
      "Total params: 4,385\n",
      "Trainable params: 4,385\n",
      "Non-trainable params: 0\n",
      "_________________________________________________________________\n"
     ]
    }
   ],
   "source": [
    "# 전체 구조 확인\n",
    "autoencoder.summary()"
   ]
  },
  {
   "attachments": {
    "image.png": {
     "image/png": "[encoded data removed]"
    }
   },
   "cell_type": "markdown",
   "id": "005f5b3c",
   "metadata": {},
   "source": [
    "![image.png](attachment:image.png)"
   ]
  },
  {
   "cell_type": "code",
   "execution_count": 7,
   "id": "9fcec458",
   "metadata": {},
   "outputs": [],
   "source": [
    "# 컴파일\n",
    "autoencoder.compile(optimizer='adam', loss='binary_crossentropy')"
   ]
  },
  {
   "cell_type": "code",
   "execution_count": 8,
   "id": "53078e3e",
   "metadata": {},
   "outputs": [
    {
     "name": "stdout",
     "output_type": "stream",
     "text": [
      "Epoch 1/50\n",
      "469/469 [==============================] - 39s 79ms/step - loss: 0.2124 - val_loss: 0.1394\n",
      "Epoch 2/50\n",
      "469/469 [==============================] - 35s 75ms/step - loss: 0.1279 - val_loss: 0.1184\n",
      "Epoch 3/50\n",
      "469/469 [==============================] - 37s 78ms/step - loss: 0.1152 - val_loss: 0.1101\n",
      "Epoch 4/50\n",
      "469/469 [==============================] - 36s 76ms/step - loss: 0.1087 - val_loss: 0.1051\n",
      "Epoch 5/50\n",
      "469/469 [==============================] - 36s 77ms/step - loss: 0.1044 - val_loss: 0.1017\n",
      "Epoch 6/50\n",
      "469/469 [==============================] - 36s 77ms/step - loss: 0.1013 - val_loss: 0.0993\n",
      "Epoch 7/50\n",
      "469/469 [==============================] - 36s 76ms/step - loss: 0.0992 - val_loss: 0.0973\n",
      "Epoch 8/50\n",
      "469/469 [==============================] - 35s 75ms/step - loss: 0.0975 - val_loss: 0.0955\n",
      "Epoch 9/50\n",
      "469/469 [==============================] - 35s 74ms/step - loss: 0.0962 - val_loss: 0.0943\n",
      "Epoch 10/50\n",
      "469/469 [==============================] - 35s 75ms/step - loss: 0.0951 - val_loss: 0.0934\n",
      "Epoch 11/50\n",
      "469/469 [==============================] - 35s 75ms/step - loss: 0.0941 - val_loss: 0.0928\n",
      "Epoch 12/50\n",
      "469/469 [==============================] - 34s 73ms/step - loss: 0.0932 - val_loss: 0.0918\n",
      "Epoch 13/50\n",
      "469/469 [==============================] - 34s 74ms/step - loss: 0.0923 - val_loss: 0.0907\n",
      "Epoch 14/50\n",
      "469/469 [==============================] - 35s 74ms/step - loss: 0.0916 - val_loss: 0.0899\n",
      "Epoch 15/50\n",
      "469/469 [==============================] - 34s 73ms/step - loss: 0.0908 - val_loss: 0.0893\n",
      "Epoch 16/50\n",
      "469/469 [==============================] - 35s 75ms/step - loss: 0.0902 - val_loss: 0.0887\n",
      "Epoch 17/50\n",
      "469/469 [==============================] - 36s 77ms/step - loss: 0.0897 - val_loss: 0.0881\n",
      "Epoch 18/50\n",
      "469/469 [==============================] - 34s 73ms/step - loss: 0.0891 - val_loss: 0.0876\n",
      "Epoch 19/50\n",
      "469/469 [==============================] - 35s 75ms/step - loss: 0.0887 - val_loss: 0.0877\n",
      "Epoch 20/50\n",
      "469/469 [==============================] - 37s 79ms/step - loss: 0.0883 - val_loss: 0.0868\n",
      "Epoch 21/50\n",
      "469/469 [==============================] - 36s 77ms/step - loss: 0.0879 - val_loss: 0.0865\n",
      "Epoch 22/50\n",
      "469/469 [==============================] - 35s 75ms/step - loss: 0.0876 - val_loss: 0.0862\n",
      "Epoch 23/50\n",
      "469/469 [==============================] - 35s 75ms/step - loss: 0.0873 - val_loss: 0.0859\n",
      "Epoch 24/50\n",
      "469/469 [==============================] - 35s 74ms/step - loss: 0.0870 - val_loss: 0.0858\n",
      "Epoch 25/50\n",
      "469/469 [==============================] - 36s 76ms/step - loss: 0.0867 - val_loss: 0.0855\n",
      "Epoch 26/50\n",
      "469/469 [==============================] - 36s 77ms/step - loss: 0.0865 - val_loss: 0.0853\n",
      "Epoch 27/50\n",
      "469/469 [==============================] - 35s 75ms/step - loss: 0.0862 - val_loss: 0.0849\n",
      "Epoch 28/50\n",
      "469/469 [==============================] - 35s 75ms/step - loss: 0.0860 - val_loss: 0.0847\n",
      "Epoch 29/50\n",
      "469/469 [==============================] - 35s 74ms/step - loss: 0.0858 - val_loss: 0.0845\n",
      "Epoch 30/50\n",
      "469/469 [==============================] - 36s 76ms/step - loss: 0.0856 - val_loss: 0.0842\n",
      "Epoch 31/50\n",
      "469/469 [==============================] - 35s 75ms/step - loss: 0.0855 - val_loss: 0.0841\n",
      "Epoch 32/50\n",
      "469/469 [==============================] - 35s 75ms/step - loss: 0.0852 - val_loss: 0.0841\n",
      "Epoch 33/50\n",
      "469/469 [==============================] - 35s 76ms/step - loss: 0.0851 - val_loss: 0.0840\n",
      "Epoch 34/50\n",
      "469/469 [==============================] - 35s 75ms/step - loss: 0.0849 - val_loss: 0.0838\n",
      "Epoch 35/50\n",
      "469/469 [==============================] - 35s 75ms/step - loss: 0.0848 - val_loss: 0.0836\n",
      "Epoch 36/50\n",
      "469/469 [==============================] - 35s 75ms/step - loss: 0.0846 - val_loss: 0.0833\n",
      "Epoch 37/50\n",
      "469/469 [==============================] - 35s 74ms/step - loss: 0.0845 - val_loss: 0.0833\n",
      "Epoch 38/50\n",
      "469/469 [==============================] - 35s 74ms/step - loss: 0.0844 - val_loss: 0.0831\n",
      "Epoch 39/50\n",
      "469/469 [==============================] - 35s 74ms/step - loss: 0.0842 - val_loss: 0.0830\n",
      "Epoch 40/50\n",
      "469/469 [==============================] - 35s 74ms/step - loss: 0.0841 - val_loss: 0.0828\n",
      "Epoch 41/50\n",
      "469/469 [==============================] - 35s 74ms/step - loss: 0.0840 - val_loss: 0.0829\n",
      "Epoch 42/50\n",
      "469/469 [==============================] - 35s 74ms/step - loss: 0.0838 - val_loss: 0.0826\n",
      "Epoch 43/50\n",
      "469/469 [==============================] - 35s 74ms/step - loss: 0.0837 - val_loss: 0.0826\n",
      "Epoch 44/50\n",
      "469/469 [==============================] - 35s 74ms/step - loss: 0.0837 - val_loss: 0.0826\n",
      "Epoch 45/50\n",
      "469/469 [==============================] - 35s 74ms/step - loss: 0.0836 - val_loss: 0.0823\n",
      "Epoch 46/50\n",
      "469/469 [==============================] - 35s 74ms/step - loss: 0.0834 - val_loss: 0.0823\n",
      "Epoch 47/50\n",
      "469/469 [==============================] - 35s 75ms/step - loss: 0.0833 - val_loss: 0.0823\n",
      "Epoch 48/50\n",
      "469/469 [==============================] - 35s 74ms/step - loss: 0.0832 - val_loss: 0.0821\n",
      "Epoch 49/50\n",
      "469/469 [==============================] - 35s 75ms/step - loss: 0.0832 - val_loss: 0.0820\n",
      "Epoch 50/50\n",
      "469/469 [==============================] - 35s 75ms/step - loss: 0.0831 - val_loss: 0.0819\n"
     ]
    },
    {
     "data": {
      "text/plain": [
       "<tensorflow.python.keras.callbacks.History at 0x29a1d9322c8>"
      ]
     },
     "execution_count": 8,
     "metadata": {},
     "output_type": "execute_result"
    }
   ],
   "source": [
    "autoencoder.fit(X_train, X_train, epochs=50, batch_size=128, \\\n",
    "               validation_data=(X_test, X_test))"
   ]
  },
  {
   "cell_type": "code",
   "execution_count": 11,
   "id": "e3fb0369",
   "metadata": {},
   "outputs": [],
   "source": [
    "# 학습된 결과를 출력하는 부분\n",
    "random_test = np.random.randint(X_test.shape[0], size=5)  "
   ]
  },
  {
   "cell_type": "code",
   "execution_count": 12,
   "id": "b1b22333",
   "metadata": {},
   "outputs": [],
   "source": [
    "# 테스트할 이미지를 랜덤으로 호출\n",
    "ae_imgs = autoencoder.predict(X_test)  # 앞서 만든 오토인코더 모델에 넣기"
   ]
  },
  {
   "cell_type": "code",
   "execution_count": 13,
   "id": "7bf7e921",
   "metadata": {},
   "outputs": [
    {
     "data": {
      "image/png": "[encoded data removed]",
      "text/plain": [
       "<Figure size 504x144 with 10 Axes>"
      ]
     },
     "metadata": {
      "needs_background": "light"
     },
     "output_type": "display_data"
    }
   ],
   "source": [
    "plt.figure(figsize=(7, 2))  # 출력 이미지 크기 정하기\n",
    " \n",
    "for i, image_idx in enumerate(random_test):    \n",
    "   # 랜덤으로 뽑은 이미지를 차례로 나열\n",
    "   ax = plt.subplot(2, 7, i + 1)\n",
    "   # 테스트할 이미지를 먼저 그대로 보여줌\n",
    "   plt.imshow(X_test[image_idx].reshape(28, 28))  \n",
    "   ax.axis('off')\n",
    "   ax = plt.subplot(2, 7, 7 + i +1)\n",
    "   # 오토인코딩 결과를 다음 열에 입력\n",
    "   plt.imshow(ae_imgs[image_idx].reshape(28, 28))  \n",
    "   ax.axis('off')\n",
    "plt.show()"
   ]
  },
  {
   "cell_type": "code",
   "execution_count": null,
   "id": "9689928f",
   "metadata": {},
   "outputs": [],
   "source": []
  }
 ],
 "metadata": {
  "kernelspec": {
   "display_name": "Python 3 (ipykernel)",
   "language": "python",
   "name": "python3"
  },
  "language_info": {
   "codemirror_mode": {
    "name": "ipython",
    "version": 3
   },
   "file_extension": ".py",
   "mimetype": "text/x-python",
   "name": "python",
   "nbconvert_exporter": "python",
   "pygments_lexer": "ipython3",
   "version": "3.7.11"
  }
 },
 "nbformat": 4,
 "nbformat_minor": 5
}
