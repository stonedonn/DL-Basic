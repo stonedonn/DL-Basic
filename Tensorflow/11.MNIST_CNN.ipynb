{
 "cells": [
  {
   "cell_type": "code",
   "execution_count": 1,
   "id": "f1ee3951",
   "metadata": {},
   "outputs": [],
   "source": [
    "from tensorflow.keras.datasets import mnist\n",
    "from tensorflow.keras.utils import to_categorical\n",
    "from tensorflow.keras.models import Sequential\n",
    "from tensorflow.keras.layers import Dense, Dropout,Flatten, Conv2D, MaxPooling2D\n",
    "from tensorflow.keras.callbacks import ModelCheckpoint, EarlyStopping\n",
    "import matplotlib.pyplot as plt\n",
    "import numpy as np\n",
    "import os\n",
    "import tensorflow as tf"
   ]
  },
  {
   "cell_type": "code",
   "execution_count": 2,
   "id": "4ad881ab",
   "metadata": {},
   "outputs": [],
   "source": [
    "(X_train, Y_class_train), (X_test,Y_class_test)=mnist.load_data()\n",
    "X_train=X_train.reshape(X_train.shape[0], 28,28,1)\n",
    "X_train=X_train.astype(float)\n",
    "X_train=X_train/255\n",
    "\n",
    "X_test=X_test.reshape(X_test.shape[0],28,28,1)\n",
    "X_test=X_test.astype(float)\n",
    "X_test=X_test/255\n",
    "\n",
    "Y_train=to_categorical(Y_class_train, 10)\n",
    "Y_test=to_categorical(Y_class_test,10)"
   ]
  },
  {
   "cell_type": "code",
   "execution_count": 3,
   "id": "a669414c",
   "metadata": {},
   "outputs": [],
   "source": [
    "model=Sequential()\n",
    "model.add(Conv2D(32, kernel_size=(3,3),input_shape=(28,28,1), activation='relu'))\n",
    "#color image는 (x,x,3), 여기서는 grayshape이기 때문에 (x,x,1)\n",
    "model.add(Conv2D(64, (3,3), activation='relu'))\n",
    "model.add(MaxPooling2D(pool_size=2))\n",
    "model.add(Dropout(0.25))\n",
    "model.add(Flatten())\n",
    "model.add(Dense(128,activation='relu'))\n",
    "model.add(Dropout(0.5))\n",
    "model.add(Dense(10, activation='softmax'))"
   ]
  },
  {
   "cell_type": "code",
   "execution_count": 4,
   "id": "cb0d1f87",
   "metadata": {},
   "outputs": [
    {
     "name": "stdout",
     "output_type": "stream",
     "text": [
      "Model: \"sequential\"\n",
      "_________________________________________________________________\n",
      "Layer (type)                 Output Shape              Param #   \n",
      "=================================================================\n",
      "conv2d (Conv2D)              (None, 26, 26, 32)        320       \n",
      "_________________________________________________________________\n",
      "conv2d_1 (Conv2D)            (None, 24, 24, 64)        18496     \n",
      "_________________________________________________________________\n",
      "max_pooling2d (MaxPooling2D) (None, 12, 12, 64)        0         \n",
      "_________________________________________________________________\n",
      "dropout (Dropout)            (None, 12, 12, 64)        0         \n",
      "_________________________________________________________________\n",
      "flatten (Flatten)            (None, 9216)              0         \n",
      "_________________________________________________________________\n",
      "dense (Dense)                (None, 128)               1179776   \n",
      "_________________________________________________________________\n",
      "dropout_1 (Dropout)          (None, 128)               0         \n",
      "_________________________________________________________________\n",
      "dense_1 (Dense)              (None, 10)                1290      \n",
      "=================================================================\n",
      "Total params: 1,199,882\n",
      "Trainable params: 1,199,882\n",
      "Non-trainable params: 0\n",
      "_________________________________________________________________\n"
     ]
    }
   ],
   "source": [
    "model.summary()"
   ]
  },
  {
   "cell_type": "code",
   "execution_count": 5,
   "id": "fd482134",
   "metadata": {},
   "outputs": [],
   "source": [
    "import os\n",
    "from tensorflow.keras.callbacks import ModelCheckpoint, EarlyStopping\n",
    "model.compile(loss='categorical_crossentropy', optimizer='adam', metrics=['accuracy'])\n",
    "MODEL_DIR='model'\n",
    "if not os.path.exists(MODEL_DIR):\n",
    "    os.mkdir(MODEL_DIR)\n",
    "    \n",
    "modelpath='model/{epoch:02d}-{val_loss:.4f}.hdf5'\n",
    "checkpoint=ModelCheckpoint(filepath=modelpath,monitor='val_loss', verbose=1, save_best_only=True)\n",
    "early_stopping_callback=EarlyStopping(monitor='val_loss', patience=10)"
   ]
  },
  {
   "cell_type": "code",
   "execution_count": 6,
   "id": "709e3e17",
   "metadata": {},
   "outputs": [
    {
     "name": "stdout",
     "output_type": "stream",
     "text": [
      "\n",
      "Epoch 00001: val_loss improved from inf to 0.05840, saving model to model\\01-0.0584.hdf5\n",
      "\n",
      "Epoch 00002: val_loss improved from 0.05840 to 0.04139, saving model to model\\02-0.0414.hdf5\n",
      "\n",
      "Epoch 00003: val_loss improved from 0.04139 to 0.03280, saving model to model\\03-0.0328.hdf5\n",
      "\n",
      "Epoch 00004: val_loss improved from 0.03280 to 0.03084, saving model to model\\04-0.0308.hdf5\n",
      "\n",
      "Epoch 00005: val_loss improved from 0.03084 to 0.02955, saving model to model\\05-0.0296.hdf5\n",
      "\n",
      "Epoch 00006: val_loss did not improve from 0.02955\n",
      "\n",
      "Epoch 00007: val_loss improved from 0.02955 to 0.02921, saving model to model\\07-0.0292.hdf5\n",
      "\n",
      "Epoch 00008: val_loss improved from 0.02921 to 0.02765, saving model to model\\08-0.0277.hdf5\n",
      "\n",
      "Epoch 00009: val_loss improved from 0.02765 to 0.02740, saving model to model\\09-0.0274.hdf5\n",
      "\n",
      "Epoch 00010: val_loss did not improve from 0.02740\n",
      "\n",
      "Epoch 00011: val_loss did not improve from 0.02740\n",
      "\n",
      "Epoch 00012: val_loss improved from 0.02740 to 0.02665, saving model to model\\12-0.0267.hdf5\n",
      "\n",
      "Epoch 00013: val_loss did not improve from 0.02665\n",
      "\n",
      "Epoch 00014: val_loss did not improve from 0.02665\n",
      "\n",
      "Epoch 00015: val_loss did not improve from 0.02665\n",
      "\n",
      "Epoch 00016: val_loss did not improve from 0.02665\n",
      "\n",
      "Epoch 00017: val_loss did not improve from 0.02665\n",
      "\n",
      "Epoch 00018: val_loss did not improve from 0.02665\n",
      "\n",
      "Epoch 00019: val_loss did not improve from 0.02665\n",
      "\n",
      "Epoch 00020: val_loss did not improve from 0.02665\n",
      "\n",
      "Epoch 00021: val_loss did not improve from 0.02665\n",
      "\n",
      "Epoch 00022: val_loss did not improve from 0.02665\n"
     ]
    }
   ],
   "source": [
    "history=model.fit(X_train, Y_train, validation_data=(X_test,Y_test), epochs=30, batch_size=200, verbose=0, callbacks=[early_stopping_callback, checkpoint])"
   ]
  },
  {
   "cell_type": "code",
   "execution_count": 7,
   "id": "fed57ba4",
   "metadata": {
    "scrolled": true
   },
   "outputs": [
    {
     "name": "stdout",
     "output_type": "stream",
     "text": [
      "313/313 [==============================] - 3s 8ms/step - loss: 0.0324 - accuracy: 0.9920\n",
      "\n",
      " Test Accuracy: 0.9920\n"
     ]
    }
   ],
   "source": [
    "print(\"\\n Test Accuracy: %.4f\" % (model.evaluate(X_test, Y_test)[1]))"
   ]
  },
  {
   "cell_type": "code",
   "execution_count": 8,
   "id": "376e1663",
   "metadata": {},
   "outputs": [
    {
     "data": {
      "image/png": "[encoded data removed]",
      "text/plain": [
       "<Figure size 432x288 with 1 Axes>"
      ]
     },
     "metadata": {
      "needs_background": "light"
     },
     "output_type": "display_data"
    }
   ],
   "source": [
    "y_vloss=history.history['val_loss']\n",
    "y_loss=history.history['loss']\n",
    "\n",
    "x_len=np.arange(len(y_loss))\n",
    "plt.plot(x_len, y_vloss, marker='.', c='red', label='Testset_loss')\n",
    "plt.plot(x_len, y_loss, marker='.', c='blue', label='Trainset_loss')\n",
    "\n",
    "plt.legend(loc='upper right')\n",
    "plt.grid()\n",
    "plt.xlabel('epoch')\n",
    "plt.ylabel('loss')\n",
    "plt.show()"
   ]
  },
  {
   "cell_type": "code",
   "execution_count": null,
   "id": "358b5a3c",
   "metadata": {},
   "outputs": [],
   "source": []
  },
  {
   "cell_type": "code",
   "execution_count": null,
   "id": "22b8dab6",
   "metadata": {},
   "outputs": [],
   "source": []
  }
 ],
 "metadata": {
  "kernelspec": {
   "display_name": "Python 3",
   "language": "python",
   "name": "python3"
  },
  "language_info": {
   "codemirror_mode": {
    "name": "ipython",
    "version": 3
   },
   "file_extension": ".py",
   "mimetype": "text/x-python",
   "name": "python",
   "nbconvert_exporter": "python",
   "pygments_lexer": "ipython3",
   "version": "3.7.11"
  }
 },
 "nbformat": 4,
 "nbformat_minor": 5
}
