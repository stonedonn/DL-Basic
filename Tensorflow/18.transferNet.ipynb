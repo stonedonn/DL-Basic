{
 "cells": [
  {
   "cell_type": "code",
   "execution_count": 6,
   "id": "5ab1e600",
   "metadata": {},
   "outputs": [],
   "source": [
    "import tensorflow as tf\n",
    "import numpy as np\n",
    "import matplotlib.pyplot as plt\n",
    "\n",
    "from tensorflow.keras.models import Sequential\n",
    "from tensorflow.keras.preprocessing.image import ImageDataGenerator\n",
    "from tensorflow.keras import Input, models, layers, \\\n",
    "                        optimizers, metrics\n",
    "from tensorflow.keras.layers import Dense, Flatten\n",
    "from tensorflow.keras.applications import VGG16"
   ]
  },
  {
   "cell_type": "code",
   "execution_count": 2,
   "id": "969ba91f",
   "metadata": {},
   "outputs": [],
   "source": [
    "b_size = 5\n",
    "train_datagen = ImageDataGenerator(rescale=1./255, \\\n",
    "                                horizontal_flip=True,\\\n",
    "                        # 수평 대칭 이미지를 50% 확률로 만듬\n",
    "                                 width_shift_range=0.1,\\\n",
    "                        # 전체 크기의 10% 범위에서 좌우로 이동\n",
    "                                 height_shift_range=0.1,\\\n",
    "                                 fill_mode='nearest')"
   ]
  },
  {
   "cell_type": "code",
   "execution_count": 3,
   "id": "53ad9c19",
   "metadata": {},
   "outputs": [
    {
     "name": "stdout",
     "output_type": "stream",
     "text": [
      "Found 160 images belonging to 2 classes.\n"
     ]
    }
   ],
   "source": [
    "train_generator = train_datagen.flow_from_directory(\n",
    "                            'train',\n",
    "                            target_size=(150,150),\n",
    "                            batch_size=b_size,\n",
    "                            class_mode='binary')"
   ]
  },
  {
   "cell_type": "code",
   "execution_count": 4,
   "id": "938aee7e",
   "metadata": {},
   "outputs": [
    {
     "name": "stdout",
     "output_type": "stream",
     "text": [
      "Found 120 images belonging to 2 classes.\n"
     ]
    }
   ],
   "source": [
    "test_datagen = ImageDataGenerator(rescale=1./255)\n",
    "test_generator = test_datagen.flow_from_directory(\n",
    "                            'test',\n",
    "                            target_size=(150,150),\n",
    "                            batch_size=b_size,\n",
    "                            class_mode='binary')"
   ]
  },
  {
   "cell_type": "code",
   "execution_count": 5,
   "id": "87b6c82b",
   "metadata": {},
   "outputs": [
    {
     "name": "stdout",
     "output_type": "stream",
     "text": [
      "Downloading data from https://storage.googleapis.com/tensorflow/keras-applications/vgg16/vgg16_weights_tf_dim_ordering_tf_kernels_notop.h5\n",
      "58892288/58889256 [==============================] - 1s 0us/step\n",
      "Model: \"vgg16\"\n",
      "_________________________________________________________________\n",
      "Layer (type)                 Output Shape              Param #   \n",
      "=================================================================\n",
      "input_1 (InputLayer)         [(None, 150, 150, 3)]     0         \n",
      "_________________________________________________________________\n",
      "block1_conv1 (Conv2D)        (None, 150, 150, 64)      1792      \n",
      "_________________________________________________________________\n",
      "block1_conv2 (Conv2D)        (None, 150, 150, 64)      36928     \n",
      "_________________________________________________________________\n",
      "block1_pool (MaxPooling2D)   (None, 75, 75, 64)        0         \n",
      "_________________________________________________________________\n",
      "block2_conv1 (Conv2D)        (None, 75, 75, 128)       73856     \n",
      "_________________________________________________________________\n",
      "block2_conv2 (Conv2D)        (None, 75, 75, 128)       147584    \n",
      "_________________________________________________________________\n",
      "block2_pool (MaxPooling2D)   (None, 37, 37, 128)       0         \n",
      "_________________________________________________________________\n",
      "block3_conv1 (Conv2D)        (None, 37, 37, 256)       295168    \n",
      "_________________________________________________________________\n",
      "block3_conv2 (Conv2D)        (None, 37, 37, 256)       590080    \n",
      "_________________________________________________________________\n",
      "block3_conv3 (Conv2D)        (None, 37, 37, 256)       590080    \n",
      "_________________________________________________________________\n",
      "block3_pool (MaxPooling2D)   (None, 18, 18, 256)       0         \n",
      "_________________________________________________________________\n",
      "block4_conv1 (Conv2D)        (None, 18, 18, 512)       1180160   \n",
      "_________________________________________________________________\n",
      "block4_conv2 (Conv2D)        (None, 18, 18, 512)       2359808   \n",
      "_________________________________________________________________\n",
      "block4_conv3 (Conv2D)        (None, 18, 18, 512)       2359808   \n",
      "_________________________________________________________________\n",
      "block4_pool (MaxPooling2D)   (None, 9, 9, 512)         0         \n",
      "_________________________________________________________________\n",
      "block5_conv1 (Conv2D)        (None, 9, 9, 512)         2359808   \n",
      "_________________________________________________________________\n",
      "block5_conv2 (Conv2D)        (None, 9, 9, 512)         2359808   \n",
      "_________________________________________________________________\n",
      "block5_conv3 (Conv2D)        (None, 9, 9, 512)         2359808   \n",
      "_________________________________________________________________\n",
      "block5_pool (MaxPooling2D)   (None, 4, 4, 512)         0         \n",
      "=================================================================\n",
      "Total params: 14,714,688\n",
      "Trainable params: 0\n",
      "Non-trainable params: 14,714,688\n",
      "_________________________________________________________________\n"
     ]
    }
   ],
   "source": [
    "transfer_model = VGG16(weights='imagenet', include_top=False,\n",
    "                      input_shape=(150, 150, 3))\n",
    "transfer_model.trainable = False\n",
    "transfer_model.summary()"
   ]
  },
  {
   "cell_type": "code",
   "execution_count": 7,
   "id": "57e9b8dc",
   "metadata": {},
   "outputs": [
    {
     "name": "stdout",
     "output_type": "stream",
     "text": [
      "Model: \"sequential\"\n",
      "_________________________________________________________________\n",
      "Layer (type)                 Output Shape              Param #   \n",
      "=================================================================\n",
      "vgg16 (Functional)           (None, 4, 4, 512)         14714688  \n",
      "_________________________________________________________________\n",
      "flatten (Flatten)            (None, 8192)              0         \n",
      "_________________________________________________________________\n",
      "dense (Dense)                (None, 64)                524352    \n",
      "_________________________________________________________________\n",
      "dense_1 (Dense)              (None, 2)                 130       \n",
      "=================================================================\n",
      "Total params: 15,239,170\n",
      "Trainable params: 524,482\n",
      "Non-trainable params: 14,714,688\n",
      "_________________________________________________________________\n"
     ]
    }
   ],
   "source": [
    "finetune_model = Sequential()\n",
    "finetune_model.add(transfer_model)\n",
    "finetune_model.add(Flatten())\n",
    "finetune_model.add(Dense(64, activation='relu'))\n",
    "finetune_model.add(Dense(2, activation='softmax'))\n",
    "finetune_model.summary()"
   ]
  },
  {
   "cell_type": "code",
   "execution_count": 10,
   "id": "6df0124e",
   "metadata": {},
   "outputs": [
    {
     "name": "stdout",
     "output_type": "stream",
     "text": [
      "Epoch 1/20\n",
      "32/32 [==============================] - 16s 494ms/step - loss: 0.5566 - accuracy: 0.7063 - val_loss: 0.4218 - val_accuracy: 0.8333\n",
      "Epoch 2/20\n",
      "32/32 [==============================] - 15s 474ms/step - loss: 0.3641 - accuracy: 0.8500 - val_loss: 0.2794 - val_accuracy: 0.9250\n",
      "Epoch 3/20\n",
      "32/32 [==============================] - 15s 459ms/step - loss: 0.2480 - accuracy: 0.9312 - val_loss: 0.3142 - val_accuracy: 0.8583\n",
      "Epoch 4/20\n",
      "32/32 [==============================] - 14s 453ms/step - loss: 0.2124 - accuracy: 0.9375 - val_loss: 0.1937 - val_accuracy: 0.9333\n",
      "Epoch 5/20\n",
      "32/32 [==============================] - 14s 453ms/step - loss: 0.1582 - accuracy: 0.9688 - val_loss: 0.1651 - val_accuracy: 0.9583\n",
      "Epoch 6/20\n",
      "32/32 [==============================] - 14s 455ms/step - loss: 0.1491 - accuracy: 0.9438 - val_loss: 0.1895 - val_accuracy: 0.9250\n",
      "Epoch 7/20\n",
      "32/32 [==============================] - 14s 454ms/step - loss: 0.1466 - accuracy: 0.9563 - val_loss: 0.1390 - val_accuracy: 0.9667\n",
      "Epoch 8/20\n",
      "32/32 [==============================] - 14s 457ms/step - loss: 0.1214 - accuracy: 0.9812 - val_loss: 0.1297 - val_accuracy: 0.9500\n",
      "Epoch 9/20\n",
      "32/32 [==============================] - 14s 455ms/step - loss: 0.1157 - accuracy: 0.9500 - val_loss: 0.1165 - val_accuracy: 0.9750\n",
      "Epoch 10/20\n",
      "32/32 [==============================] - 15s 464ms/step - loss: 0.1697 - accuracy: 0.9500 - val_loss: 0.1894 - val_accuracy: 0.9167\n",
      "Epoch 11/20\n",
      "32/32 [==============================] - 15s 464ms/step - loss: 0.1387 - accuracy: 0.9500 - val_loss: 0.1141 - val_accuracy: 0.9667\n",
      "Epoch 12/20\n",
      "32/32 [==============================] - 15s 481ms/step - loss: 0.0946 - accuracy: 0.9688 - val_loss: 0.1784 - val_accuracy: 0.9250\n",
      "Epoch 13/20\n",
      "32/32 [==============================] - 15s 473ms/step - loss: 0.0785 - accuracy: 0.9750 - val_loss: 0.1294 - val_accuracy: 0.9417\n",
      "Epoch 14/20\n",
      "32/32 [==============================] - 15s 476ms/step - loss: 0.0798 - accuracy: 0.9875 - val_loss: 0.1028 - val_accuracy: 0.9667\n",
      "Epoch 15/20\n",
      "32/32 [==============================] - 15s 469ms/step - loss: 0.0723 - accuracy: 0.9875 - val_loss: 0.1103 - val_accuracy: 0.9583\n",
      "Epoch 16/20\n",
      "32/32 [==============================] - 15s 467ms/step - loss: 0.0545 - accuracy: 0.9937 - val_loss: 0.0862 - val_accuracy: 0.9667\n",
      "Epoch 17/20\n",
      "32/32 [==============================] - 15s 459ms/step - loss: 0.0547 - accuracy: 0.9875 - val_loss: 0.2011 - val_accuracy: 0.9167\n",
      "Epoch 18/20\n",
      "32/32 [==============================] - 15s 458ms/step - loss: 0.0812 - accuracy: 0.9625 - val_loss: 0.0860 - val_accuracy: 0.9750\n",
      "Epoch 19/20\n",
      "32/32 [==============================] - 15s 466ms/step - loss: 0.0810 - accuracy: 0.9688 - val_loss: 0.1132 - val_accuracy: 0.9500\n",
      "Epoch 20/20\n",
      "32/32 [==============================] - 15s 458ms/step - loss: 0.0785 - accuracy: 0.9688 - val_loss: 0.2190 - val_accuracy: 0.9167\n"
     ]
    }
   ],
   "source": [
    "finetune_model.compile(loss='sparse_categorical_crossentropy', \\\n",
    "                      optimizer=optimizers.Adam(\\\n",
    "                        learning_rate=0.0002), metrics=['accuracy'])\n",
    "\n",
    "\n",
    "steps_train = len(train_generator)\n",
    "steps_test = len(test_generator)\n",
    "\n",
    "history = finetune_model.fit(\n",
    "       train_generator,\n",
    "       steps_per_epoch=steps_train,\n",
    "       epochs=20,\n",
    "       validation_data=test_generator,\n",
    "       validation_steps=steps_test )"
   ]
  },
  {
   "cell_type": "code",
   "execution_count": 11,
   "id": "d044be40",
   "metadata": {},
   "outputs": [
    {
     "data": {
      "image/png": "[encoded data removed]",
      "text/plain": [
       "<Figure size 432x288 with 1 Axes>"
      ]
     },
     "metadata": {
      "needs_background": "light"
     },
     "output_type": "display_data"
    }
   ],
   "source": [
    "acc = history.history['accuracy']\n",
    "val_acc = history.history['val_accuracy']\n",
    "y_vloss = history.history['val_loss']\n",
    "y_loss = history.history['loss']\n",
    "\n",
    "x_len = np.arange(len(y_loss))\n",
    "plt.plot(x_len, acc, marker='.', c='red', label='Trainset_acc')\n",
    "plt.plot(x_len, val_acc, marker='.', c='lightcoral', \\\n",
    "         label='Trainset_acc')\n",
    "plt.plot(x_len, y_vloss, marker='.', c='cornflowerblue', \\\n",
    "         label='Trainset_acc')\n",
    "plt.plot(x_len, y_loss, marker='.', c='blue', \\\n",
    "         label='Trainset_loss')\n",
    "plt.legend(loc='upper left')\n",
    "plt.grid()\n",
    "plt.xlabel('epoch')\n",
    "plt.ylabel('loss/acc')\n",
    "plt.show()"
   ]
  },
  {
   "cell_type": "code",
   "execution_count": null,
   "id": "40069309",
   "metadata": {},
   "outputs": [],
   "source": []
  }
 ],
 "metadata": {
  "kernelspec": {
   "display_name": "Python 3 (ipykernel)",
   "language": "python",
   "name": "python3"
  },
  "language_info": {
   "codemirror_mode": {
    "name": "ipython",
    "version": 3
   },
   "file_extension": ".py",
   "mimetype": "text/x-python",
   "name": "python",
   "nbconvert_exporter": "python",
   "pygments_lexer": "ipython3",
   "version": "3.7.11"
  }
 },
 "nbformat": 4,
 "nbformat_minor": 5
}
