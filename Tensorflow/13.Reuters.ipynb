{
 "cells": [
  {
   "cell_type": "code",
   "execution_count": 1,
   "id": "fea5c339",
   "metadata": {},
   "outputs": [],
   "source": [
    "import numpy as np\n",
    "import tensorflow as tf\n",
    "import matplotlib.pyplot as plt\n",
    "import pandas as pd\n",
    "# 로이터 뉴스 데이터셋 불러오기\n",
    "from tensorflow.keras.datasets import reuters\n",
    "from tensorflow.keras.models import Sequential\n",
    "from tensorflow.keras.layers import Dense,LSTM,Embedding\n",
    "from tensorflow.keras.preprocessing import sequence\n",
    "from tensorflow.keras.utils import to_categorical"
   ]
  },
  {
   "cell_type": "code",
   "execution_count": 2,
   "id": "9886be5a",
   "metadata": {},
   "outputs": [
    {
     "name": "stderr",
     "output_type": "stream",
     "text": [
      "D:\\Anaconda\\envs\\ML2\\lib\\site-packages\\tensorflow\\python\\keras\\datasets\\reuters.py:143: VisibleDeprecationWarning: Creating an ndarray from ragged nested sequences (which is a list-or-tuple of lists-or-tuples-or ndarrays with different lengths or shapes) is deprecated. If you meant to do this, you must specify 'dtype=object' when creating the ndarray\n",
      "  x_train, y_train = np.array(xs[:idx]), np.array(labels[:idx])\n",
      "D:\\Anaconda\\envs\\ML2\\lib\\site-packages\\tensorflow\\python\\keras\\datasets\\reuters.py:144: VisibleDeprecationWarning: Creating an ndarray from ragged nested sequences (which is a list-or-tuple of lists-or-tuples-or ndarrays with different lengths or shapes) is deprecated. If you meant to do this, you must specify 'dtype=object' when creating the ndarray\n",
      "  x_test, y_test = np.array(xs[idx:]), np.array(labels[idx:])\n"
     ]
    }
   ],
   "source": [
    "# 로이터데이터셋 불러오기 \n",
    "(X_train, Y_train), (X_test, Y_test) = \\\n",
    "                reuters.load_data(num_words=1000, test_split=0.2)\n",
    "# num_words = 각 기사별로 단어의 빈도수를 측정해 상위 1000개만 가져오겠다"
   ]
  },
  {
   "cell_type": "code",
   "execution_count": 3,
   "id": "f1fca568",
   "metadata": {},
   "outputs": [
    {
     "name": "stdout",
     "output_type": "stream",
     "text": [
      "46 카테고리\n",
      "8982 학습용 뉴스 기사\n",
      "2246 테스트용 뉴스 기사\n",
      "[1, 2, 2, 8, 43, 10, 447, 5, 25, 207, 270, 5, 2, 111, 16, 369, 186, 90, 67, 7, 89, 5, 19, 102, 6, 19, 124, 15, 90, 67, 84, 22, 482, 26, 7, 48, 4, 49, 8, 864, 39, 209, 154, 6, 151, 6, 83, 11, 15, 22, 155, 11, 15, 7, 48, 9, 2, 2, 504, 6, 258, 6, 272, 11, 15, 22, 134, 44, 11, 15, 16, 8, 197, 2, 90, 67, 52, 29, 209, 30, 32, 132, 6, 109, 15, 17, 12]\n"
     ]
    }
   ],
   "source": [
    "category = np.max(Y_train) + 1\n",
    "print(category, '카테고리')\n",
    "print(len(X_train), '학습용 뉴스 기사')\n",
    "print(len(X_test), '테스트용 뉴스 기사')\n",
    "print(X_train[0])"
   ]
  },
  {
   "cell_type": "code",
   "execution_count": 4,
   "id": "c3f640fc",
   "metadata": {},
   "outputs": [],
   "source": [
    "x_train = sequence.pad_sequences(X_train, maxlen=100)\n",
    "x_test = sequence.pad_sequences(X_test, maxlen=100)\n",
    "y_train = to_categorical(Y_train)\n",
    "y_test = to_categorical(Y_test)"
   ]
  },
  {
   "cell_type": "code",
   "execution_count": 5,
   "id": "f279fa0c",
   "metadata": {},
   "outputs": [
    {
     "name": "stdout",
     "output_type": "stream",
     "text": [
      "3\n"
     ]
    }
   ],
   "source": [
    "print(Y_train[0])"
   ]
  },
  {
   "cell_type": "code",
   "execution_count": 6,
   "id": "019da21a",
   "metadata": {},
   "outputs": [],
   "source": [
    "model = Sequential()\n",
    "model.add(Embedding(1000, 100)) # 1000차원이 들어오는걸 100차원으로 벡터화\n",
    "model.add(LSTM(100, activation='tanh'))\n",
    "model.add(Dense(46, activation='softmax'))"
   ]
  },
  {
   "cell_type": "code",
   "execution_count": 7,
   "id": "d4d053c6",
   "metadata": {},
   "outputs": [
    {
     "name": "stdout",
     "output_type": "stream",
     "text": [
      "Model: \"sequential\"\n",
      "_________________________________________________________________\n",
      "Layer (type)                 Output Shape              Param #   \n",
      "=================================================================\n",
      "embedding (Embedding)        (None, None, 100)         100000    \n",
      "_________________________________________________________________\n",
      "lstm (LSTM)                  (None, 100)               80400     \n",
      "_________________________________________________________________\n",
      "dense (Dense)                (None, 46)                4646      \n",
      "=================================================================\n",
      "Total params: 185,046\n",
      "Trainable params: 185,046\n",
      "Non-trainable params: 0\n",
      "_________________________________________________________________\n"
     ]
    }
   ],
   "source": [
    "model.summary()"
   ]
  },
  {
   "cell_type": "code",
   "execution_count": 8,
   "id": "621fa97b",
   "metadata": {},
   "outputs": [],
   "source": [
    "# 모델 컴파일\n",
    "model.compile(loss='categorical_crossentropy',\\\n",
    "             optimizer='adam',\\\n",
    "             metrics=['accuracy'])"
   ]
  },
  {
   "cell_type": "code",
   "execution_count": 9,
   "id": "bdd0ed8c",
   "metadata": {},
   "outputs": [
    {
     "name": "stdout",
     "output_type": "stream",
     "text": [
      "Epoch 1/20\n",
      "90/90 [==============================] - 12s 113ms/step - loss: 2.5933 - accuracy: 0.3486 - val_loss: 2.2247 - val_accuracy: 0.4786\n",
      "Epoch 2/20\n",
      "90/90 [==============================] - 10s 107ms/step - loss: 2.0623 - accuracy: 0.4890 - val_loss: 2.0451 - val_accuracy: 0.4853\n",
      "Epoch 3/20\n",
      "90/90 [==============================] - 10s 107ms/step - loss: 1.8802 - accuracy: 0.5272 - val_loss: 1.7801 - val_accuracy: 0.5490\n",
      "Epoch 4/20\n",
      "90/90 [==============================] - 9s 105ms/step - loss: 1.7134 - accuracy: 0.5631 - val_loss: 1.6890 - val_accuracy: 0.5695\n",
      "Epoch 5/20\n",
      "90/90 [==============================] - 10s 106ms/step - loss: 1.6425 - accuracy: 0.5804 - val_loss: 1.6263 - val_accuracy: 0.5948\n",
      "Epoch 6/20\n",
      "90/90 [==============================] - 9s 105ms/step - loss: 1.5278 - accuracy: 0.6091 - val_loss: 1.5636 - val_accuracy: 0.6144\n",
      "Epoch 7/20\n",
      "90/90 [==============================] - 10s 109ms/step - loss: 1.4430 - accuracy: 0.6328 - val_loss: 1.5213 - val_accuracy: 0.6104\n",
      "Epoch 8/20\n",
      "90/90 [==============================] - 10s 108ms/step - loss: 1.3481 - accuracy: 0.6552 - val_loss: 1.4761 - val_accuracy: 0.6282\n",
      "Epoch 9/20\n",
      "90/90 [==============================] - 10s 114ms/step - loss: 1.2949 - accuracy: 0.6717 - val_loss: 1.3777 - val_accuracy: 0.6585\n",
      "Epoch 10/20\n",
      "90/90 [==============================] - 10s 106ms/step - loss: 1.2224 - accuracy: 0.6898 - val_loss: 1.3231 - val_accuracy: 0.6692\n",
      "Epoch 11/20\n",
      "90/90 [==============================] - 10s 109ms/step - loss: 1.1569 - accuracy: 0.7037 - val_loss: 1.2879 - val_accuracy: 0.6750\n",
      "Epoch 12/20\n",
      "90/90 [==============================] - 10s 108ms/step - loss: 1.0832 - accuracy: 0.7268 - val_loss: 1.2910 - val_accuracy: 0.6785\n",
      "Epoch 13/20\n",
      "90/90 [==============================] - 10s 113ms/step - loss: 1.0391 - accuracy: 0.7337 - val_loss: 1.2450 - val_accuracy: 0.6901\n",
      "Epoch 14/20\n",
      "90/90 [==============================] - 10s 109ms/step - loss: 0.9848 - accuracy: 0.7475 - val_loss: 1.2202 - val_accuracy: 0.6892\n",
      "Epoch 15/20\n",
      "90/90 [==============================] - 10s 107ms/step - loss: 0.9492 - accuracy: 0.7572 - val_loss: 1.2753 - val_accuracy: 0.6986\n",
      "Epoch 16/20\n",
      "90/90 [==============================] - 10s 107ms/step - loss: 0.9003 - accuracy: 0.7684 - val_loss: 1.2131 - val_accuracy: 0.6901\n",
      "Epoch 17/20\n",
      "90/90 [==============================] - 9s 105ms/step - loss: 0.8567 - accuracy: 0.7800 - val_loss: 1.2241 - val_accuracy: 0.7035\n",
      "Epoch 18/20\n",
      "90/90 [==============================] - 10s 111ms/step - loss: 0.8376 - accuracy: 0.7823 - val_loss: 1.1951 - val_accuracy: 0.7079\n",
      "Epoch 19/20\n",
      "90/90 [==============================] - 10s 107ms/step - loss: 0.7992 - accuracy: 0.7947 - val_loss: 1.2123 - val_accuracy: 0.7008\n",
      "Epoch 20/20\n",
      "90/90 [==============================] - 9s 105ms/step - loss: 0.7580 - accuracy: 0.8047 - val_loss: 1.2260 - val_accuracy: 0.7017\n"
     ]
    }
   ],
   "source": [
    "# 훈련\n",
    "history = model.fit(x_train, y_train, batch_size=100, \\\n",
    "                       epochs=20, validation_data=(x_test, y_test))"
   ]
  },
  {
   "cell_type": "code",
   "execution_count": 10,
   "id": "e96da2fc",
   "metadata": {},
   "outputs": [
    {
     "name": "stdout",
     "output_type": "stream",
     "text": [
      "71/71 [==============================] - 1s 19ms/step - loss: 1.2260 - accuracy: 0.7017\n",
      "\n",
      " Test Accuracy:  0.701692\n"
     ]
    }
   ],
   "source": [
    "print(\"\\n Test Accuracy: % 4f\" % \\\n",
    "     (model.evaluate(x_test, y_test)[1]))"
   ]
  },
  {
   "cell_type": "code",
   "execution_count": 11,
   "id": "98b6a54f",
   "metadata": {},
   "outputs": [],
   "source": [
    "y_vloss = history.history['val_loss']\n",
    "y_loss = history.history['loss']"
   ]
  },
  {
   "cell_type": "code",
   "execution_count": 13,
   "id": "bd92e788",
   "metadata": {},
   "outputs": [
    {
     "data": {
      "text/plain": [
       "[<matplotlib.lines.Line2D at 0x1fdcc47b7c8>]"
      ]
     },
     "execution_count": 13,
     "metadata": {},
     "output_type": "execute_result"
    },
    {
     "data": {
      "image/png": "[encoded data removed]",
      "text/plain": [
       "<Figure size 432x288 with 1 Axes>"
      ]
     },
     "metadata": {
      "needs_background": "light"
     },
     "output_type": "display_data"
    }
   ],
   "source": [
    "x_len = np.arange(len(y_loss))\n",
    "plt.plot(x_len, y_vloss, marker='.', c=\"red\", label='Testset_loss')\n",
    "plt.plot(x_len, y_loss, marker='.', c=\"blue\", label='Trainset_loss')"
   ]
  },
  {
   "cell_type": "code",
   "execution_count": 14,
   "id": "3979658f",
   "metadata": {},
   "outputs": [
    {
     "name": "stderr",
     "output_type": "stream",
     "text": [
      "No handles with labels found to put in legend.\n"
     ]
    },
    {
     "data": {
      "image/png": "[encoded data removed]",
      "text/plain": [
       "<Figure size 432x288 with 1 Axes>"
      ]
     },
     "metadata": {
      "needs_background": "light"
     },
     "output_type": "display_data"
    }
   ],
   "source": [
    "plt.legend(loc='upper right')\n",
    "plt.grid()\n",
    "plt.xlabel('epoch')\n",
    "plt.ylabel('loss')\n",
    "plt.show()"
   ]
  },
  {
   "cell_type": "code",
   "execution_count": null,
   "id": "422f1429",
   "metadata": {},
   "outputs": [],
   "source": []
  }
 ],
 "metadata": {
  "kernelspec": {
   "display_name": "Python 3 (ipykernel)",
   "language": "python",
   "name": "python3"
  },
  "language_info": {
   "codemirror_mode": {
    "name": "ipython",
    "version": 3
   },
   "file_extension": ".py",
   "mimetype": "text/x-python",
   "name": "python",
   "nbconvert_exporter": "python",
   "pygments_lexer": "ipython3",
   "version": "3.7.11"
  }
 },
 "nbformat": 4,
 "nbformat_minor": 5
}
